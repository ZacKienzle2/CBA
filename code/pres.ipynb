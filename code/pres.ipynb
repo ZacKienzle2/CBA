{
 "cells": [
  {
   "cell_type": "code",
   "execution_count": null,
   "id": "1492f1b1",
   "metadata": {},
   "outputs": [],
   "source": [
    "import numpy as np\n",
    "import pandas as pd"
   ]
  },
  {
   "cell_type": "code",
   "execution_count": null,
   "id": "2b091587",
   "metadata": {},
   "outputs": [],
   "source": [
    "def breadcrumb(term_lengths, start_x, end_x, vertical_position, padding):\n",
    "    num_terms = len(term_lengths)\n",
    "    if num_terms == 0:\n",
    "        return []\n",
    "\n",
    "    breadcrumb_width = end_x - start_x\n",
    "\n",
    "    total_terms_width = sum(term_lengths)\n",
    "    total_padding_width = (num_terms - 1) * padding\n",
    "    total_occupied_width = total_terms_width + total_padding_width\n",
    "\n",
    "    start_offset_relative = max(0, (breadcrumb_width - total_occupied_width) / 2)\n",
    "\n",
    "    absolute_start_offset = start_x + start_offset_relative\n",
    "\n",
    "    positions = []\n",
    "    current_horizontal_position = absolute_start_offset\n",
    "\n",
    "    for i, length in enumerate(term_lengths):\n",
    "        if i > 0:\n",
    "            current_horizontal_position += padding\n",
    "\n",
    "        positions.append((current_horizontal_position, vertical_position))\n",
    "\n",
    "        current_horizontal_position += length\n",
    "\n",
    "    return positions\n",
    "\n"
   ]
  },
  {
   "cell_type": "code",
   "execution_count": 8,
   "id": "ebe97fcb",
   "metadata": {},
   "outputs": [
    {
     "name": "stdout",
     "output_type": "stream",
     "text": [
      "DataFrame 'sec_length':\n",
      "                 Term  Length_cm\n",
      "0            overview       2.22\n",
      "1        macro theses       3.08\n",
      "2         instruments       2.76\n",
      "3               risks       1.50\n",
      "4             hedging       2.04\n",
      "5  financial position       3.77\n",
      "\n",
      "Calculated absolute positions (horizontal, vertical) in cm:\n",
      "[(4.25, 17.14), (8.47, 17.14), (13.55, 17.14), (18.310000000000002, 17.14), (21.810000000000002, 17.14), (25.85, 17.14)]\n"
     ]
    }
   ],
   "source": [
    "terms = [\"overview\", \"macro theses\", \"instruments\", \"risks\", \"hedging\", \"financial position\"]\n",
    "lengths_cm = [2.22, 3.08, 2.76, 1.5, 2.04, 3.77]\n",
    "\n",
    "sec_length = pd.DataFrame({\n",
    "    'Term': terms,\n",
    "    'Length_cm': lengths_cm\n",
    "})\n",
    "\n",
    "print(\"DataFrame 'sec_length':\")\n",
    "print(sec_length)\n",
    "\n",
    "start_x_cm = 2.33\n",
    "end_x_cm = 31.54\n",
    "vertical_pos_cm = 17.14\n",
    "padding_cm = 2\n",
    "\n",
    "term_lengths_list = sec_length['Length_cm'].tolist()\n",
    "\n",
    "term_positions = breadcrumb(term_lengths_list, start_x_cm, end_x_cm, vertical_pos_cm, padding_cm)\n",
    "\n",
    "print(\"\\nCalculated absolute positions (horizontal, vertical) in cm:\")\n",
    "print(term_positions)"
   ]
  },
  {
   "cell_type": "code",
   "execution_count": null,
   "id": "a90997c6",
   "metadata": {},
   "outputs": [],
   "source": []
  }
 ],
 "metadata": {
  "kernelspec": {
   "display_name": "MainEnvironment",
   "language": "python",
   "name": "python3"
  },
  "language_info": {
   "codemirror_mode": {
    "name": "ipython",
    "version": 3
   },
   "file_extension": ".py",
   "mimetype": "text/x-python",
   "name": "python",
   "nbconvert_exporter": "python",
   "pygments_lexer": "ipython3",
   "version": "3.12.9"
  }
 },
 "nbformat": 4,
 "nbformat_minor": 5
}
