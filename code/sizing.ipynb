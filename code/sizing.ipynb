{
 "cells": [
  {
   "cell_type": "code",
   "execution_count": 4,
   "id": "9a59b291",
   "metadata": {},
   "outputs": [],
   "source": [
    "import numpy as np\n",
    "import pandas as pd\n",
    "import statsmodels.api as sm"
   ]
  },
  {
   "cell_type": "code",
   "execution_count": 5,
   "id": "44494065",
   "metadata": {},
   "outputs": [],
   "source": [
    "def hedge_ratio():\n",
    "    \"\"\"\n",
    "    Calculate the hedge ratio using the OLS method.\n",
    "    The hedge ratio is the slope of the regression line between two time series.\n",
    "    \"\"\"\n",
    "    # Generate synthetic data\n",
    "    np.random.seed(0)\n",
    "    x = np.random.normal(size=100)\n",
    "    y = 2 * x + np.random.normal(size=100)\n",
    "\n",
    "    # Create a DataFrame\n",
    "    df = pd.DataFrame({'x': x, 'y': y})\n",
    "\n",
    "    # Perform OLS regression\n",
    "    model = sm.OLS(df['y'], sm.add_constant(df['x'])).fit()\n",
    "\n",
    "    # Extract the hedge ratio (slope)\n",
    "    hedge_ratio = model.params[1]\n",
    "    \n",
    "    return hedge_ratio"
   ]
  },
  {
   "cell_type": "code",
   "execution_count": null,
   "id": "4c5150ab",
   "metadata": {},
   "outputs": [],
   "source": []
  }
 ],
 "metadata": {
  "kernelspec": {
   "display_name": "MainEnvironment",
   "language": "python",
   "name": "python3"
  },
  "language_info": {
   "codemirror_mode": {
    "name": "ipython",
    "version": 3
   },
   "file_extension": ".py",
   "mimetype": "text/x-python",
   "name": "python",
   "nbconvert_exporter": "python",
   "pygments_lexer": "ipython3",
   "version": "3.12.9"
  }
 },
 "nbformat": 4,
 "nbformat_minor": 5
}
