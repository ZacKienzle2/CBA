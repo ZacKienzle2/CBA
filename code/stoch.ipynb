{
 "cells": [
  {
   "cell_type": "code",
   "execution_count": null,
   "id": "b5d6c81d",
   "metadata": {
    "vscode": {
     "languageId": "plaintext"
    }
   },
   "outputs": [],
   "source": [
    "from pymle.models.CKLS import CKLS\n",
    "from pymle.core.TransitionDensity import KesslerDensity, ShojiOzakiDensity\n",
    "from pymle.fit.AnalyticalMLE import AnalyticalMLE\n",
    "\n",
    "model = CKLS()\n",
    "\n",
    "# Set bounds for param search, and some psuedo-reasonable initial guess\n",
    "param_bounds = [(0.0, 10), (0.0, 10), (0.01, 3), (0.1, 2)]\n",
    "guess = np.array([0.01, 0.1, 0.2, 0.6])\n",
    "\n",
    "# ===========================\n",
    "# Read in the data (interest rate time series)\n",
    "# ===========================\n",
    "\n",
    "df = pd.read_csv('https://raw.githubusercontent.com/pyMLE/pymle/master/examples/data/interest_rate.csv', index_col=0, parse_dates=True) \n",
    "sample = df['Rate'].values\n",
    "dt = 1. / 252  # Daily observations\n",
    "\n",
    "# ===========================\n",
    "# Fit maximum Likelihood estimators\n",
    "# ===========================\n",
    "\n",
    "# Fit using Kessler MLE\n",
    "kessler_est = AnalyticalMLE(sample, param_bounds, dt, density=KesslerDensity(model)).estimate_params(guess)\n",
    "\n",
    "print(f'\\nKessler MLE: {kessler_est} \\n')\n",
    "\n",
    "# Fit using Shoji-Ozaki MLE\n",
    "shojioz_est = AnalyticalMLE(sample, param_bounds, dt, density=ShojiOzakiDensity(model)).estimate_params(guess)\n",
    "\n",
    "print(f'\\nShoji-Ozaki MLE: {shojioz_est}')"
   ]
  }
 ],
 "metadata": {
  "language_info": {
   "name": "python"
  }
 },
 "nbformat": 4,
 "nbformat_minor": 5
}
